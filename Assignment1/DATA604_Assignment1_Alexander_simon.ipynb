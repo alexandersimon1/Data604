{
 "cells": [
  {
   "cell_type": "markdown",
   "metadata": {},
   "source": [
    "# DATA604 Assignment 1\n",
    "### Alexander Simon\n",
    "### 2024-06-07"
   ]
  },
  {
   "cell_type": "markdown",
   "metadata": {},
   "source": [
    "# 1. Submit a document verifying that you have successfully installed and tested Simio and Python\n",
    "\n",
    "## 1.1. Simio\n",
    "As I noted in class, the download link provided in the course materials installed a 30-day trial version of the full program. I’m not sure whether it will default to the Personal Edition after this time, but I’ll see what happens after the trial ends.\n",
    "![Simio welcome.png](https://github.com/alexandersimon1/Data604/blob/main/Assignment1/Simio%20welcome.png?raw=true)\n",
    "\n",
    "## 1.2. Python\n",
    "I already had Python installed on my computer, so below I just show that it works."
   ]
  },
  {
   "cell_type": "code",
   "execution_count": 7,
   "metadata": {},
   "outputs": [
    {
     "name": "stdout",
     "output_type": "stream",
     "text": [
      "Hello world!\n"
     ]
    }
   ],
   "source": [
    "print(\"Hello world!\")"
   ]
  },
  {
   "cell_type": "markdown",
   "metadata": {},
   "source": [
    "# 2. RealPython SimPy tutorial\n",
    "I installed simpy, downloaded the tutorial script (see code block below), and followed the tutorial.\n",
    "\n",
    "## 2.1. Minimum wait time\n",
    "The shortest wait time I got was 3 minutes 25 seconds with 12 cashiers, 10 servers, and 2 ushers.\n",
    "\n",
    "## 2.2. Minimum number of employees\n",
    "The solution above requires 24 employees. Although not specified in the tutorial, the manager will also need to consider how much it costs to pay all the employees, so the problem could be rephrased as minimizing the total number of employees while keeping the wait time to 10 minutes or less. With this additional constraint, the best solution I found was 9 cashiers, 6 servers, and 1 usher (16 employees total). This assumes that all employees are paid the same.<br>\n",
    "<br>\n",
    "I found these solutions by trial and error. It would be better to determine the optimal soluton programmatically, but I don't know how to do that yet."
   ]
  },
  {
   "cell_type": "code",
   "execution_count": 6,
   "metadata": {},
   "outputs": [
    {
     "name": "stdout",
     "output_type": "stream",
     "text": [
      "Running simulation... \n",
      "The average wait time is 3 minutes and 25 seconds.\n"
     ]
    }
   ],
   "source": [
    "\"\"\"Companion code to https://realpython.com/simulation-with-simpy/\n",
    "\n",
    "'Simulating Real-World Processes With SimPy'\n",
    "\n",
    "Python version: 3.7.3\n",
    "SimPy version: 3.0.11\n",
    "\"\"\"\n",
    "\n",
    "import random\n",
    "import statistics\n",
    "import simpy\n",
    "\n",
    "wait_times = []\n",
    "\n",
    "\n",
    "class Theater(object):\n",
    "    def __init__(self, env, num_cashiers, num_servers, num_ushers):\n",
    "        self.env = env\n",
    "        self.cashier = simpy.Resource(env, num_cashiers)\n",
    "        self.server = simpy.Resource(env, num_servers)\n",
    "        self.usher = simpy.Resource(env, num_ushers)\n",
    "\n",
    "    def purchase_ticket(self, moviegoer):\n",
    "        yield self.env.timeout(random.randint(1, 3))\n",
    "\n",
    "    def check_ticket(self, moviegoer):\n",
    "        yield self.env.timeout(3 / 60)\n",
    "\n",
    "    def sell_food(self, moviegoer):\n",
    "        yield self.env.timeout(random.randint(1, 5))\n",
    "\n",
    "\n",
    "def go_to_movies(env, moviegoer, theater):\n",
    "    # Moviegoer arrives at the theater\n",
    "    arrival_time = env.now\n",
    "\n",
    "    with theater.cashier.request() as request:\n",
    "        yield request\n",
    "        yield env.process(theater.purchase_ticket(moviegoer))\n",
    "\n",
    "    with theater.usher.request() as request:\n",
    "        yield request\n",
    "        yield env.process(theater.check_ticket(moviegoer))\n",
    "\n",
    "    if random.choice([True, False]):\n",
    "        with theater.server.request() as request:\n",
    "            yield request\n",
    "            yield env.process(theater.sell_food(moviegoer))\n",
    "\n",
    "    # Moviegoer heads into the theater\n",
    "    wait_times.append(env.now - arrival_time)\n",
    "\n",
    "\n",
    "def run_theater(env, num_cashiers, num_servers, num_ushers):\n",
    "    theater = Theater(env, num_cashiers, num_servers, num_ushers)\n",
    "\n",
    "    for moviegoer in range(3):\n",
    "        env.process(go_to_movies(env, moviegoer, theater))\n",
    "\n",
    "    while True:\n",
    "        yield env.timeout(0.20)  # Wait a bit before generating a new person\n",
    "\n",
    "        moviegoer += 1\n",
    "        env.process(go_to_movies(env, moviegoer, theater))\n",
    "\n",
    "\n",
    "def get_average_wait_time(wait_times):\n",
    "    average_wait = statistics.mean(wait_times)\n",
    "    # Pretty print the results\n",
    "    minutes, frac_minutes = divmod(average_wait, 1)\n",
    "    seconds = frac_minutes * 60\n",
    "    return round(minutes), round(seconds)\n",
    "\n",
    "\n",
    "def get_user_input():\n",
    "    num_cashiers = input(\"Input # of cashiers working: \")\n",
    "    num_servers = input(\"Input # of servers working: \")\n",
    "    num_ushers = input(\"Input # of ushers working: \")\n",
    "    params = [num_cashiers, num_servers, num_ushers]\n",
    "    if all(str(i).isdigit() for i in params):  # Check input is valid\n",
    "        params = [int(x) for x in params]\n",
    "    else:\n",
    "        print(\n",
    "            \"Could not parse input. Simulation will use default values:\",\n",
    "            \"\\n1 cashier, 1 server, 1 usher.\",\n",
    "        )\n",
    "        params = [1, 1, 1]\n",
    "    return params\n",
    "\n",
    "\n",
    "def main():\n",
    "    # Setup\n",
    "    random.seed(42)\n",
    "    num_cashiers, num_servers, num_ushers = get_user_input()\n",
    "\n",
    "    # Run the simulation\n",
    "    env = simpy.Environment()\n",
    "    env.process(run_theater(env, num_cashiers, num_servers, num_ushers))\n",
    "    env.run(until=90)\n",
    "\n",
    "    # View the results\n",
    "    mins, secs = get_average_wait_time(wait_times)\n",
    "    print(\n",
    "        \"Running simulation...\",\n",
    "        f\"\\nThe average wait time is {mins} minutes and {secs} seconds.\",\n",
    "    )\n",
    "\n",
    "\n",
    "if __name__ == \"__main__\":\n",
    "    main()"
   ]
  },
  {
   "cell_type": "markdown",
   "metadata": {},
   "source": [
    "# 3. Select one case from https://www.simio.com/academics/student-projects/ and analyze how Simio helped improve the process in the case study\n",
    "\n",
    "Selected case: [Improving Disney World’s monorail system](https://www.simio.com/academics/student-projects/transportation/20131227-Improving-Disney-Worlds-Monorail-System/)\n",
    "<br><br>\n",
    "Due to the design of the monorail stations at Walt Disney World, guests in wheelchairs need extra time and staff assistance to safely cross a gap between the station platform and the train, which delays the train by 5 minutes. Two potential solutions are to increase the number of trains or modify the platforms to eliminate the gap so that all passengers can board without assistance. Simio enabled comparing these scenarios under different conditions (eg, number of stations, trains, and passengers). The best performing model was platform modfication, which maximized customer accessibility and enabled all trains to stop at each station for only 3 minutes.\n",
    "\n",
    "# 4. Write a short essay explaining which other factors could be considered to build a stronger simulation model, and how you can apply simulation and modeling in your professional duties.\n",
    "\n",
    "The model for the Disney monorail system could be improved by identifying the platforms that would benefit most from modification, cost of the modifications, and the optimal sequence of performing the construction to minimize service disruption. The first two are important considerations because the cost of modifying all platforms may be substantial. If some stations are more affected by wheelchair accessibility delays than others, then cost savings may be possible by limiting modifications to those stations.<br>\n",
    "<br>\n",
    "In addition, if the platform modification requires closing the station for a period of time while construction is performed, not all stations could be modified simultaneously (ie, people may not be happy about having to walk/wheel through the entire resort). Similarly, closing several adjacent stations at the same time may make it inconvenient for people to travel between attractions. So, it may be beneficial to know average walking/wheeling times between stations and to model different closure scenarios to determine the optimal order of construction. Of course, if the platform modification is a simple fix that could be performed while the resort is closed at night, then modeling would not be needed.<br>\n",
    "<br>\n",
    "Currently, I am a medical writer. In medical communications, generative AI (eg, “ChatGPT”) is a trending topic. One unresolved question is how writers can best use the tool to create scientific documents. On one hand, generative AI is very fast, so it could potentially increase a writer’s productivity. However, it also has a tendency of “hallucinating” (eg, quoting nonexistent sources as factual), which requires writers to spend time fact checking and correcting generated text, potentially negating any productivity gains from the speed of generation. The question of whether generative AI can increase productivity in medical writing could be explored with a model of productivity in a medical communications office (ie, time and cost for writers to create different types of documents) and using simulations to compare productivity with or without generative AI. It may be possible to adapt existing project management simulations, such as the PM game simulation shown in the Week 1 meetup, for this problem.\n"
   ]
  }
 ],
 "metadata": {
  "kernelspec": {
   "display_name": "Python 3 (ipykernel)",
   "language": "python",
   "name": "python3"
  },
  "language_info": {
   "codemirror_mode": {
    "name": "ipython",
    "version": 3
   },
   "file_extension": ".py",
   "mimetype": "text/x-python",
   "name": "python",
   "nbconvert_exporter": "python",
   "pygments_lexer": "ipython3",
   "version": "3.9.1"
  }
 },
 "nbformat": 4,
 "nbformat_minor": 4
}
